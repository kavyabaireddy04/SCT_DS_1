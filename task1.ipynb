# Import necessary libraries
import pandas as pd
import matplotlib.pyplot as plt
import seaborn as sns
# Set up plot style
plt.style.use('ggplot')
sns.set_palette('Set2')

# Load the CSV file
df = pd.read_csv(r"C:\Users\kotireddy81\Downloads\earthquake_incidents_2020_2024.csv")

# Preview the data
print(df.head())

# Check data types and basic structure
print("\nData Types and Info:")
print(df.info())

# Basic statistical summary
print("\nSummary Statistics:")
print(df.describe())

# ------------------- PLOTS -------------------
# 1. Histogram for Earthquake Magnitudes
plt.figure(figsize=(6, 4))
sns.histplot(df['Magnitude'].dropna(), bins=20, color='steelblue', edgecolor='black')
plt.title('Distribution of Earthquake Magnitudes')
plt.xlabel('Magnitude')
plt.ylabel('Frequency')
plt.tight_layout()
plt.show()
# 2. Histogram for Earthquake Depths
plt.figure(figsize=(6, 4))
sns.histplot(df['Depth_km'].dropna(), bins=20, color='salmon', edgecolor='black')
plt.title('Distribution of Earthquake Depths (km)')
plt.xlabel('Depth (km)')
plt.ylabel('Frequency')
plt.tight_layout()
plt.show()
# 3. Top 10 Countries with Highest Average Magnitude
if 'Location' in df.columns:
    avg_magnitude = df.groupby('Location')['Magnitude'].mean().sort_values(ascending=False).head(10)

    plt.figure(figsize=(10, 5))
    sns.barplot(x=avg_magnitude.index, y=avg_magnitude.values, color='green')
    plt.title('Top 10 Countries with Highest Average Earthquake Magnitude')
    plt.ylabel('Average Magnitude')
    plt.xticks(rotation=45)
    plt.tight_layout()
    plt.show()
else:
    print("Column 'Location' not found in dataset.")

# 4. Count of Earthquakes by Location (Top 10)
if 'Location' in df.columns:
    location_counts = df['Location'].value_counts().head(10)

    plt.figure(figsize=(10, 5))
    sns.barplot(x=location_counts.index, y=location_counts.values, color='purple')
    plt.title('Top 10 Locations by Number of Earthquakes')
    plt.ylabel('Number of Earthquakes')
    plt.xticks(rotation=45)
    plt.tight_layout()
    plt.show()
else:
    print("Column 'Location' not found in dataset.")
